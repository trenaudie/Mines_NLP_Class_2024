{
 "cells": [
  {
   "cell_type": "markdown",
   "id": "0bc149cb-bdc6-4a0e-970c-5687adaa6a79",
   "metadata": {},
   "source": [
    "# Makemore 2: Multi-Layer Perceptron (MLP)"
   ]
  },
  {
   "cell_type": "markdown",
   "id": "a492ffe0-9a3f-4712-ae47-9b346bd92910",
   "metadata": {
    "jp-MarkdownHeadingCollapsed": true
   },
   "source": [
    "## Introduction\n",
    "\n",
    "Implémentation d'un réseau de neurones inspiré du papier de Bengio et al. de 2003 [_A Neural Probabilistic Language Model_](https://www.jmlr.org/papers/volume3/bengio03a/bengio03a.pdf).\n",
    "\n",
    "Rappel: code source de [makemore](https://github.com/karpathy/makemore) d'Andrej Karpathy sur Github."
   ]
  },
  {
   "cell_type": "markdown",
   "id": "656e7e8c-ab0d-441a-87ce-da92689d7c3d",
   "metadata": {},
   "source": [
    "## Données sources"
   ]
  },
  {
   "cell_type": "code",
   "execution_count": 1,
   "id": "4bdbb915-9997-4a4c-9ace-341ba56c8e97",
   "metadata": {},
   "outputs": [],
   "source": [
    "import torch\n",
    "import torch.nn.functional as F\n",
    "import matplotlib.pyplot as plt\n",
    "%matplotlib inline"
   ]
  },
  {
   "cell_type": "code",
   "execution_count": 2,
   "id": "e756a16f-f8b4-4977-aa68-7b9add577c71",
   "metadata": {},
   "outputs": [
    {
     "name": "stdout",
     "output_type": "stream",
     "text": [
      "nb_words = 7223\n"
     ]
    }
   ],
   "source": [
    "words = open('civil_mots.txt', 'r').read().splitlines()\n",
    "nb_words = len(words)\n",
    "print(\"nb_words =\", nb_words)"
   ]
  },
  {
   "cell_type": "code",
   "execution_count": 3,
   "id": "dc8dc701-aa7b-4055-b4e1-9fc17be0065c",
   "metadata": {},
   "outputs": [
    {
     "name": "stdout",
     "output_type": "stream",
     "text": [
      "[\"'\", '-', 'a', 'b', 'c', 'd', 'e', 'f', 'g', 'h', 'i', 'j', 'l', 'm', 'n', 'o', 'p', 'q', 'r', 's', 't', 'u', 'v', 'w', 'x', 'y', 'z', 'à', 'â', 'ç', 'è', 'é', 'ê', 'ë', 'î', 'ï', 'ô', 'ù', 'û', 'œ']\n",
      "nb_chars = 41\n"
     ]
    }
   ],
   "source": [
    "chars = sorted(list(set(''.join(words))))\n",
    "print(chars)\n",
    "nb_chars = len(chars) + 1  # On ajoute 1 pour EOS\n",
    "print(\"nb_chars =\", nb_chars)\n",
    "# Fun fact: il n'y a pas de 'k' dans le code civil"
   ]
  },
  {
   "cell_type": "code",
   "execution_count": 4,
   "id": "ca105c54-6bd7-4e95-9db1-4541e895b45c",
   "metadata": {},
   "outputs": [
    {
     "name": "stdout",
     "output_type": "stream",
     "text": [
      "CTOI = {\"'\": 1, '-': 2, 'a': 3, 'b': 4, 'c': 5, 'd': 6, 'e': 7, 'f': 8, 'g': 9, 'h': 10, 'i': 11, 'j': 12, 'l': 13, 'm': 14, 'n': 15, 'o': 16, 'p': 17, 'q': 18, 'r': 19, 's': 20, 't': 21, 'u': 22, 'v': 23, 'w': 24, 'x': 25, 'y': 26, 'z': 27, 'à': 28, 'â': 29, 'ç': 30, 'è': 31, 'é': 32, 'ê': 33, 'ë': 34, 'î': 35, 'ï': 36, 'ô': 37, 'ù': 38, 'û': 39, 'œ': 40, '.': 0}\n",
      "ITOC = {1: \"'\", 2: '-', 3: 'a', 4: 'b', 5: 'c', 6: 'd', 7: 'e', 8: 'f', 9: 'g', 10: 'h', 11: 'i', 12: 'j', 13: 'l', 14: 'm', 15: 'n', 16: 'o', 17: 'p', 18: 'q', 19: 'r', 20: 's', 21: 't', 22: 'u', 23: 'v', 24: 'w', 25: 'x', 26: 'y', 27: 'z', 28: 'à', 29: 'â', 30: 'ç', 31: 'è', 32: 'é', 33: 'ê', 34: 'ë', 35: 'î', 36: 'ï', 37: 'ô', 38: 'ù', 39: 'û', 40: 'œ', 0: '.'}\n"
     ]
    }
   ],
   "source": [
    "# Dictionnaire permettant de passer d'un caractère à son identifiant entier\n",
    "ctoi = {c:i+1 for i,c in enumerate(chars)}\n",
    "ctoi['.'] = 0\n",
    "print(\"CTOI =\", ctoi)\n",
    "# Dictionnaire permettant permettant de passer d'un entier à son caractère\n",
    "itoc = {i:s for s,i in ctoi.items()}\n",
    "print(\"ITOC =\", itoc)\n",
    "# '.' a l'indice 0"
   ]
  },
  {
   "cell_type": "markdown",
   "id": "1a7525a5-cba9-4f9d-a1c3-59e42b0ee860",
   "metadata": {},
   "source": [
    "## Construction du jeu de données pour l'entraînement"
   ]
  },
  {
   "cell_type": "code",
   "execution_count": 5,
   "id": "493d5ad7-e4e0-411d-a27e-e683a2ebfc1c",
   "metadata": {},
   "outputs": [],
   "source": [
    "def build_dataset(words:list, context_size:int):\n",
    "    \"\"\"Build the dataset of the neural net for training.\n",
    "\n",
    "    Parameters:\n",
    "        words: list of words of our data corpus\n",
    "        context_size: how many characters we take to predict the next one\n",
    "\n",
    "    Returns:\n",
    "        X: inputs to the neural net\n",
    "        Y: labels\n",
    "    \"\"\"\n",
    "    X, Y = [], []\n",
    "    for w in words:\n",
    "        #print(w)\n",
    "        context = [0] * context_size\n",
    "        for ch in w + '.':\n",
    "            ix = ctoi[ch]\n",
    "            X.append(context)\n",
    "            Y.append(ix)\n",
    "            #print(''.join(itoc[i] for i in context), '--->', itoc[ix])\n",
    "            context = context[1:] + [ix] # crop and append\n",
    "    X = torch.tensor(X)\n",
    "    Y = torch.tensor(Y)\n",
    "    #print(X.shape, Y.shape)\n",
    "    return X, Y"
   ]
  },
  {
   "cell_type": "markdown",
   "id": "a16809b2-314a-4e72-b254-cac48277e479",
   "metadata": {},
   "source": [
    "Les mots du code civil générent un jeu d'entraînement avec les entrées `X` de dimension 2 de forme (67652, 3), soit 67652 contextes de 3 caractères différents et pour les labels `Y` 67652 caractères suivants."
   ]
  },
  {
   "cell_type": "code",
   "execution_count": 6,
   "id": "979f56cd-1923-4278-ab54-78ca3e05e66e",
   "metadata": {},
   "outputs": [
    {
     "name": "stdout",
     "output_type": "stream",
     "text": [
      "X.shape = torch.Size([67652, 3])\n",
      "Y.shape = torch.Size([67652])\n",
      "tensor([[0, 0, 0],\n",
      "        [0, 0, 3],\n",
      "        [0, 0, 0],\n",
      "        [0, 0, 3],\n",
      "        [0, 3, 4]])\n",
      "tensor([3, 0, 3, 4, 3])\n"
     ]
    }
   ],
   "source": [
    "context_size = 3\n",
    "X, Y = build_dataset(words, context_size)\n",
    "print(\"X.shape =\", X.shape)\n",
    "print(\"Y.shape =\", Y.shape)\n",
    "print(X[:5])\n",
    "print(Y[:5])"
   ]
  },
  {
   "cell_type": "markdown",
   "id": "a60c17fe-c9d4-41ba-bb11-b747aef6bb89",
   "metadata": {},
   "source": [
    "## Discussion: construction du réseau de neurones"
   ]
  },
  {
   "cell_type": "markdown",
   "id": "b89c510f-4978-4729-8904-e8ecaefb28f7",
   "metadata": {},
   "source": [
    "### Matrice d'embeddings C\n",
    "\n",
    "Cette matrice est ce qui est appelé la _lookup table_ dans [Bengio et al. 2003](https://www.jmlr.org/papers/volume3/bengio03a/bengio03a.pdf). Elle sera de taille `nb_chars, e_dims`, où `nb_chars` est le nombre de caractères différents de notre dataset et `e_dims` le nombre de dimensions que nous choisirons pour représenter chaque caractère dans ce nouvel espace. Nous l'initialisons ici avec des valeurs aléatoires."
   ]
  },
  {
   "cell_type": "code",
   "execution_count": 7,
   "id": "ac56497f-600c-4075-b3c7-32295624a038",
   "metadata": {},
   "outputs": [
    {
     "name": "stdout",
     "output_type": "stream",
     "text": [
      "tensor([[ 0.6529,  0.1377],\n",
      "        [ 0.4876,  0.0775],\n",
      "        [ 0.1076,  0.3997],\n",
      "        [-1.1190,  1.6587],\n",
      "        [ 1.4713,  0.5621]])\n"
     ]
    }
   ],
   "source": [
    "e_dims = 2  # Dimensions des embeddings\n",
    "C = torch.randn((nb_chars, e_dims))\n",
    "print(C[:5])  # 5 premières lignes"
   ]
  },
  {
   "cell_type": "markdown",
   "id": "06274080-5b61-4a55-b8a0-f9dc983bc561",
   "metadata": {},
   "source": [
    "Pour utiliser cette \"_lookup table_\" sous la forme d'une matrice, on peut l'indexer avec le numéro du caractère dont on souhaite obtenir l'embedding:"
   ]
  },
  {
   "cell_type": "code",
   "execution_count": 8,
   "id": "1eacb79a-9bc1-4d82-88c1-0fb527121700",
   "metadata": {},
   "outputs": [
    {
     "name": "stdout",
     "output_type": "stream",
     "text": [
      "tensor([2.2263, 0.0827])\n"
     ]
    }
   ],
   "source": [
    "emb_char_c = C[5]\n",
    "print(emb_char_c)"
   ]
  },
  {
   "cell_type": "markdown",
   "id": "efc28282-7f56-49f1-be58-8055a91bd49b",
   "metadata": {},
   "source": [
    "Cette approche est en fait similaire à ce que nous avions fait précédemment avec les vecteurs \"one hot\":"
   ]
  },
  {
   "cell_type": "code",
   "execution_count": 9,
   "id": "0d8582e1-2b9c-4137-9b22-4d4db075b2ad",
   "metadata": {},
   "outputs": [
    {
     "data": {
      "text/plain": [
       "tensor([0., 0., 0., 0., 0., 1., 0., 0., 0., 0., 0., 0., 0., 0., 0., 0., 0., 0.,\n",
       "        0., 0., 0., 0., 0., 0., 0., 0., 0., 0., 0., 0., 0., 0., 0., 0., 0., 0.,\n",
       "        0., 0., 0., 0., 0.])"
      ]
     },
     "execution_count": 9,
     "metadata": {},
     "output_type": "execute_result"
    }
   ],
   "source": [
    "F.one_hot(torch.tensor(5), num_classes=nb_chars).float()"
   ]
  },
  {
   "cell_type": "code",
   "execution_count": 10,
   "id": "1f311b8e-baae-49d1-995a-2d005b1ba660",
   "metadata": {},
   "outputs": [
    {
     "data": {
      "text/plain": [
       "tensor([2.2263, 0.0827])"
      ]
     },
     "execution_count": 10,
     "metadata": {},
     "output_type": "execute_result"
    }
   ],
   "source": [
    "F.one_hot(torch.tensor(5), num_classes=nb_chars).float() @ C"
   ]
  },
  {
   "cell_type": "markdown",
   "id": "f311087f-5484-4fb1-8a5a-c41bd6cefcb3",
   "metadata": {},
   "source": [
    "La première couche linéaire de ce réseau de neurones, composé de cette matrice C, va être activée avec les indices des caractères.\n",
    "\n",
    "L'indexation avec des tenseurs Pytorch est très flexible, ce qui permet de récupérer plusiers lignes, par exemple correspondant à la suite de lettres c, a, b (soit 5,3,4):"
   ]
  },
  {
   "cell_type": "code",
   "execution_count": 11,
   "id": "91fb0caf-5c39-47ec-8cc3-ae88a418dd3a",
   "metadata": {},
   "outputs": [
    {
     "data": {
      "text/plain": [
       "tensor([[ 2.2263,  0.0827],\n",
       "        [-1.1190,  1.6587],\n",
       "        [ 1.4713,  0.5621]])"
      ]
     },
     "execution_count": 11,
     "metadata": {},
     "output_type": "execute_result"
    }
   ],
   "source": [
    "C[[5,3,4]]"
   ]
  },
  {
   "cell_type": "code",
   "execution_count": 12,
   "id": "caebec8d-f3cc-4b84-9d52-b2e47484d82e",
   "metadata": {},
   "outputs": [
    {
     "data": {
      "text/plain": [
       "tensor([[ 2.2263,  0.0827],\n",
       "        [-1.1190,  1.6587],\n",
       "        [ 1.4713,  0.5621]])"
      ]
     },
     "execution_count": 12,
     "metadata": {},
     "output_type": "execute_result"
    }
   ],
   "source": [
    "C[[ctoi['c'], ctoi['a'], ctoi['b']]]"
   ]
  },
  {
   "cell_type": "markdown",
   "id": "cfce8800-3de1-4320-9d52-e7de71b7e7fb",
   "metadata": {},
   "source": [
    "On peut également indexer avec un tenseur:"
   ]
  },
  {
   "cell_type": "code",
   "execution_count": 13,
   "id": "2ddb6356-3314-4642-95db-1927f3c7116c",
   "metadata": {},
   "outputs": [
    {
     "data": {
      "text/plain": [
       "tensor([[ 2.2263,  0.0827],\n",
       "        [-1.1190,  1.6587],\n",
       "        [ 1.4713,  0.5621]])"
      ]
     },
     "execution_count": 13,
     "metadata": {},
     "output_type": "execute_result"
    }
   ],
   "source": [
    "C[torch.tensor([5,3,4])]"
   ]
  },
  {
   "cell_type": "markdown",
   "id": "427a7115-873e-4254-9ebf-b2b12cb70644",
   "metadata": {},
   "source": [
    "Ce tenseur peut être multi-dimensionnel, comme par exemple `X`:"
   ]
  },
  {
   "cell_type": "code",
   "execution_count": 14,
   "id": "95d1d91e-5d91-42dd-b3d0-ccb83ee6ef96",
   "metadata": {},
   "outputs": [
    {
     "data": {
      "text/plain": [
       "tensor([[[ 0.6529,  0.1377],\n",
       "         [ 0.6529,  0.1377],\n",
       "         [ 0.6529,  0.1377]],\n",
       "\n",
       "        [[ 0.6529,  0.1377],\n",
       "         [ 0.6529,  0.1377],\n",
       "         [-1.1190,  1.6587]],\n",
       "\n",
       "        [[ 0.6529,  0.1377],\n",
       "         [ 0.6529,  0.1377],\n",
       "         [ 0.6529,  0.1377]],\n",
       "\n",
       "        ...,\n",
       "\n",
       "        [[-0.1202, -0.9563],\n",
       "         [ 0.3202, -1.2271],\n",
       "         [-0.2125, -0.8856]],\n",
       "\n",
       "        [[ 0.3202, -1.2271],\n",
       "         [-0.2125, -0.8856],\n",
       "         [ 0.2423,  0.2251]],\n",
       "\n",
       "        [[-0.2125, -0.8856],\n",
       "         [ 0.2423,  0.2251],\n",
       "         [-0.2125, -0.8856]]])"
      ]
     },
     "execution_count": 14,
     "metadata": {},
     "output_type": "execute_result"
    }
   ],
   "source": [
    "C[X]"
   ]
  },
  {
   "cell_type": "code",
   "execution_count": 15,
   "id": "5316d788-2b08-467b-9380-dc97cc20ed65",
   "metadata": {},
   "outputs": [
    {
     "data": {
      "text/plain": [
       "torch.Size([67652, 3, 2])"
      ]
     },
     "execution_count": 15,
     "metadata": {},
     "output_type": "execute_result"
    }
   ],
   "source": [
    "C[X].shape"
   ]
  },
  {
   "cell_type": "markdown",
   "id": "14b4361c-7d3b-4146-834b-4de41d88eff6",
   "metadata": {},
   "source": [
    "Ce qui nous permet de créer tous les embeddings:"
   ]
  },
  {
   "cell_type": "code",
   "execution_count": 16,
   "id": "ee9f0133-bcaa-4bf6-a72f-ec2a4e04574f",
   "metadata": {},
   "outputs": [],
   "source": [
    "emb = C[X]"
   ]
  },
  {
   "cell_type": "markdown",
   "id": "1bde58de-a2ad-4620-aee3-106adc259955",
   "metadata": {},
   "source": [
    "### Discussion sur la couche cachée\n",
    "\n",
    "La couche cachée sera composée d'une couche avec `context_size * e_dims` entrées et un nombre de neurones à définir (prenons ici 100), avec pour chaque neurone un poids et un biais, poids et biais qui seront définis dans un matrice `W1` et un vecteur `b1`:"
   ]
  },
  {
   "cell_type": "code",
   "execution_count": 17,
   "id": "f16ec2f1-4519-4b8d-b75d-41a4d68249ae",
   "metadata": {},
   "outputs": [
    {
     "data": {
      "text/plain": [
       "(torch.Size([6, 100]), torch.Size([100]))"
      ]
     },
     "execution_count": 17,
     "metadata": {},
     "output_type": "execute_result"
    }
   ],
   "source": [
    "W1 = torch.randn((context_size*e_dims, 100))\n",
    "b1 = torch.randn(100)\n",
    "W1.shape, b1.shape"
   ]
  },
  {
   "cell_type": "markdown",
   "id": "ab8fae7c-0140-49bd-815a-608239dd50fe",
   "metadata": {},
   "source": [
    "Nous souhaiterions donc maintenant multiplier les entrées par les poids et ajouter les biais:"
   ]
  },
  {
   "cell_type": "code",
   "execution_count": 18,
   "id": "b755bc3b-7300-41be-a806-ab5b21756e48",
   "metadata": {},
   "outputs": [
    {
     "ename": "RuntimeError",
     "evalue": "mat1 and mat2 shapes cannot be multiplied (202956x2 and 6x100)",
     "output_type": "error",
     "traceback": [
      "\u001b[0;31m---------------------------------------------------------------------------\u001b[0m",
      "\u001b[0;31mRuntimeError\u001b[0m                              Traceback (most recent call last)",
      "Cell \u001b[0;32mIn[18], line 1\u001b[0m\n\u001b[0;32m----> 1\u001b[0m \u001b[43memb\u001b[49m\u001b[43m \u001b[49m\u001b[38;5;241;43m@\u001b[39;49m\u001b[43m \u001b[49m\u001b[43mW1\u001b[49m \u001b[38;5;241m+\u001b[39m b1\n",
      "\u001b[0;31mRuntimeError\u001b[0m: mat1 and mat2 shapes cannot be multiplied (202956x2 and 6x100)"
     ]
    }
   ],
   "source": [
    "emb @ W1 + b1"
   ]
  },
  {
   "cell_type": "markdown",
   "id": "d5f9380a-77ce-4d6c-8b9c-75e762f8c92c",
   "metadata": {},
   "source": [
    "Ce qui ne fonctionne pas, car les dimensions ne sont pas correctes. Il faudrait passer pour `emb` d'une forme `[67652, 3, 2]` à une forme `[67652, 6]`. On peut le faire en concaténant en dimension 1 avec [`cat`](https://pytorch.org/docs/main/generated/torch.cat.html): "
   ]
  },
  {
   "cell_type": "code",
   "execution_count": 19,
   "id": "c81fc199-8eb3-4388-9f67-c8fc9bf0a1a3",
   "metadata": {},
   "outputs": [
    {
     "data": {
      "text/plain": [
       "torch.Size([67652, 6])"
      ]
     },
     "execution_count": 19,
     "metadata": {},
     "output_type": "execute_result"
    }
   ],
   "source": [
    "torch.cat([emb[:, 0, :], emb[:, 1, :], emb[:, 2, :]], 1).shape"
   ]
  },
  {
   "cell_type": "markdown",
   "id": "4585c2a5-beca-457f-9e7f-6a04f7d14228",
   "metadata": {},
   "source": [
    "Mais cette approche n'est pas très propre car difficilement généralisable. On peut également utiliser [`unbind`](https://pytorch.org/docs/stable/generated/torch.unbind.html) qui est plus simple:"
   ]
  },
  {
   "cell_type": "code",
   "execution_count": 20,
   "id": "3683449c-6570-4c07-9a8f-ebeda6323e1d",
   "metadata": {},
   "outputs": [
    {
     "data": {
      "text/plain": [
       "torch.Size([67652, 6])"
      ]
     },
     "execution_count": 20,
     "metadata": {},
     "output_type": "execute_result"
    }
   ],
   "source": [
    "torch.cat(torch.unbind(emb, 1), 1).shape"
   ]
  },
  {
   "cell_type": "markdown",
   "id": "bdd1bf4d-d286-4ac3-a4db-8fe3332e6f84",
   "metadata": {},
   "source": [
    "Mais il y a une approche plus efficace consistant à utiliser la méthode [`view()`](https://pytorch.org/docs/stable/generated/torch.Tensor.view.html) d'un tenseur, permettant de \"réorganiser\" les éléments d'un tenseur selon différentes formes et dimensions, à condition que le nombre d'éléments soit identique:"
   ]
  },
  {
   "cell_type": "code",
   "execution_count": 21,
   "id": "b4089917-4b35-4824-978c-f8502e2a3ba3",
   "metadata": {},
   "outputs": [
    {
     "data": {
      "text/plain": [
       "tensor([ 0,  1,  2,  3,  4,  5,  6,  7,  8,  9, 10, 11, 12, 13, 14, 15, 16, 17])"
      ]
     },
     "execution_count": 21,
     "metadata": {},
     "output_type": "execute_result"
    }
   ],
   "source": [
    "a = torch.arange(18)\n",
    "a"
   ]
  },
  {
   "cell_type": "code",
   "execution_count": 22,
   "id": "a7cec345-d0be-4fb0-800b-ccd514dcc51f",
   "metadata": {},
   "outputs": [
    {
     "data": {
      "text/plain": [
       "torch.Size([18])"
      ]
     },
     "execution_count": 22,
     "metadata": {},
     "output_type": "execute_result"
    }
   ],
   "source": [
    "a.shape"
   ]
  },
  {
   "cell_type": "code",
   "execution_count": 23,
   "id": "0233b8a3-46fe-474c-b32f-e8c734bd5478",
   "metadata": {},
   "outputs": [
    {
     "data": {
      "text/plain": [
       "tensor([[ 0,  1,  2,  3,  4,  5,  6,  7,  8],\n",
       "        [ 9, 10, 11, 12, 13, 14, 15, 16, 17]])"
      ]
     },
     "execution_count": 23,
     "metadata": {},
     "output_type": "execute_result"
    }
   ],
   "source": [
    "a.view(2, 9)"
   ]
  },
  {
   "cell_type": "code",
   "execution_count": 24,
   "id": "fed37cf8-1694-48cc-8193-9b3b34183a1b",
   "metadata": {},
   "outputs": [
    {
     "data": {
      "text/plain": [
       "tensor([[ 0,  1],\n",
       "        [ 2,  3],\n",
       "        [ 4,  5],\n",
       "        [ 6,  7],\n",
       "        [ 8,  9],\n",
       "        [10, 11],\n",
       "        [12, 13],\n",
       "        [14, 15],\n",
       "        [16, 17]])"
      ]
     },
     "execution_count": 24,
     "metadata": {},
     "output_type": "execute_result"
    }
   ],
   "source": [
    "a.view(9, 2)"
   ]
  },
  {
   "cell_type": "code",
   "execution_count": 25,
   "id": "187e666b-6086-477b-96cf-a6402cf84743",
   "metadata": {},
   "outputs": [
    {
     "data": {
      "text/plain": [
       "tensor([[[ 0,  1],\n",
       "         [ 2,  3],\n",
       "         [ 4,  5]],\n",
       "\n",
       "        [[ 6,  7],\n",
       "         [ 8,  9],\n",
       "         [10, 11]],\n",
       "\n",
       "        [[12, 13],\n",
       "         [14, 15],\n",
       "         [16, 17]]])"
      ]
     },
     "execution_count": 25,
     "metadata": {},
     "output_type": "execute_result"
    }
   ],
   "source": [
    "a.view(3, 3, 2)"
   ]
  },
  {
   "cell_type": "code",
   "execution_count": 26,
   "id": "f1ea6827-7a5e-48c3-8aed-990985ae3312",
   "metadata": {},
   "outputs": [
    {
     "name": "stderr",
     "output_type": "stream",
     "text": [
      "/var/folders/f3/nrzvpdb51b7f_cd_50qlhsvr0000gn/T/ipykernel_7932/214256462.py:1: UserWarning: TypedStorage is deprecated. It will be removed in the future and UntypedStorage will be the only storage class. This should only matter to you if you are using storages directly.  To access UntypedStorage directly, use tensor.untyped_storage() instead of tensor.storage()\n",
      "  a.storage()\n"
     ]
    },
    {
     "data": {
      "text/plain": [
       " 0\n",
       " 1\n",
       " 2\n",
       " 3\n",
       " 4\n",
       " 5\n",
       " 6\n",
       " 7\n",
       " 8\n",
       " 9\n",
       " 10\n",
       " 11\n",
       " 12\n",
       " 13\n",
       " 14\n",
       " 15\n",
       " 16\n",
       " 17\n",
       "[torch.storage.TypedStorage(dtype=torch.int64, device=cpu) of size 18]"
      ]
     },
     "execution_count": 26,
     "metadata": {},
     "output_type": "execute_result"
    }
   ],
   "source": [
    "a.storage()"
   ]
  },
  {
   "cell_type": "code",
   "execution_count": 27,
   "id": "24203d0a-fe41-48c7-9b64-1918d2dc223b",
   "metadata": {},
   "outputs": [
    {
     "data": {
      "text/plain": [
       "tensor([[ 0.6529,  0.1377,  0.6529,  0.1377,  0.6529,  0.1377],\n",
       "        [ 0.6529,  0.1377,  0.6529,  0.1377, -1.1190,  1.6587],\n",
       "        [ 0.6529,  0.1377,  0.6529,  0.1377,  0.6529,  0.1377],\n",
       "        ...,\n",
       "        [-0.1202, -0.9563,  0.3202, -1.2271, -0.2125, -0.8856],\n",
       "        [ 0.3202, -1.2271, -0.2125, -0.8856,  0.2423,  0.2251],\n",
       "        [-0.2125, -0.8856,  0.2423,  0.2251, -0.2125, -0.8856]])"
      ]
     },
     "execution_count": 27,
     "metadata": {},
     "output_type": "execute_result"
    }
   ],
   "source": [
    "emb.view(67652, 6)"
   ]
  },
  {
   "cell_type": "code",
   "execution_count": 28,
   "id": "3dcfcef4-92a1-4bd9-b877-98a5f9340bb8",
   "metadata": {},
   "outputs": [
    {
     "data": {
      "text/plain": [
       "tensor([[ 0.6529,  0.1377,  0.6529,  0.1377,  0.6529,  0.1377],\n",
       "        [ 0.6529,  0.1377,  0.6529,  0.1377, -1.1190,  1.6587],\n",
       "        [ 0.6529,  0.1377,  0.6529,  0.1377,  0.6529,  0.1377],\n",
       "        ...,\n",
       "        [-0.1202, -0.9563,  0.3202, -1.2271, -0.2125, -0.8856],\n",
       "        [ 0.3202, -1.2271, -0.2125, -0.8856,  0.2423,  0.2251],\n",
       "        [-0.2125, -0.8856,  0.2423,  0.2251, -0.2125, -0.8856]])"
      ]
     },
     "execution_count": 28,
     "metadata": {},
     "output_type": "execute_result"
    }
   ],
   "source": [
    "emb.view(-1, 6)"
   ]
  },
  {
   "cell_type": "code",
   "execution_count": 29,
   "id": "245a3350-b808-4756-8f4a-e5397440354d",
   "metadata": {},
   "outputs": [
    {
     "data": {
      "text/plain": [
       "tensor([[ 0.6529,  0.1377,  0.6529,  0.1377,  0.6529,  0.1377],\n",
       "        [ 0.6529,  0.1377,  0.6529,  0.1377, -1.1190,  1.6587],\n",
       "        [ 0.6529,  0.1377,  0.6529,  0.1377,  0.6529,  0.1377],\n",
       "        ...,\n",
       "        [-0.1202, -0.9563,  0.3202, -1.2271, -0.2125, -0.8856],\n",
       "        [ 0.3202, -1.2271, -0.2125, -0.8856,  0.2423,  0.2251],\n",
       "        [-0.2125, -0.8856,  0.2423,  0.2251, -0.2125, -0.8856]])"
      ]
     },
     "execution_count": 29,
     "metadata": {},
     "output_type": "execute_result"
    }
   ],
   "source": [
    "emb.view(-1, context_size*e_dims)"
   ]
  },
  {
   "cell_type": "markdown",
   "id": "54b8daf0-fbe4-48ab-92ab-54fbc567633f",
   "metadata": {},
   "source": [
    "Nous pouvons maintenant implémenter la couche caché complètement:"
   ]
  },
  {
   "cell_type": "code",
   "execution_count": 30,
   "id": "6f0a00e3-9625-4c2f-8d12-28137cd6ec59",
   "metadata": {},
   "outputs": [
    {
     "data": {
      "text/plain": [
       "tensor([[ 0.8779, -0.8752,  0.6153,  ...,  0.1436,  0.5931, -0.9808],\n",
       "        [ 0.9814, -0.9967, -0.3594,  ...,  0.9177, -0.7803,  0.9096],\n",
       "        [ 0.8779, -0.8752,  0.6153,  ...,  0.1436,  0.5931, -0.9808],\n",
       "        ...,\n",
       "        [ 0.9968,  0.9763,  0.9560,  ..., -0.9180, -0.9922,  0.1634],\n",
       "        [ 1.0000,  0.2808,  0.9729,  ..., -0.5634, -0.3961,  0.8940],\n",
       "        [ 0.7209,  0.9595,  0.7724,  ...,  0.6519, -0.9857,  0.7349]])"
      ]
     },
     "execution_count": 30,
     "metadata": {},
     "output_type": "execute_result"
    }
   ],
   "source": [
    "h = torch.tanh(emb.view(-1, context_size*e_dims) @ W1 + b1)\n",
    "h"
   ]
  },
  {
   "cell_type": "markdown",
   "id": "0ca0f7de-99d3-46b6-8e04-274daee62a56",
   "metadata": {},
   "source": [
    "### Couche de sortie"
   ]
  },
  {
   "cell_type": "code",
   "execution_count": 31,
   "id": "67656527-ea8a-4b4d-b6fc-d0d7249dd8dd",
   "metadata": {},
   "outputs": [
    {
     "data": {
      "text/plain": [
       "(torch.Size([100, 41]), torch.Size([41]))"
      ]
     },
     "execution_count": 31,
     "metadata": {},
     "output_type": "execute_result"
    }
   ],
   "source": [
    "W2 = torch.randn((100, nb_chars))\n",
    "b2 = torch.randn(nb_chars)\n",
    "W2.shape, b2.shape"
   ]
  },
  {
   "cell_type": "code",
   "execution_count": 32,
   "id": "c34f5423-14d3-4352-85aa-fd02237c7a3f",
   "metadata": {},
   "outputs": [
    {
     "data": {
      "text/plain": [
       "torch.Size([67652, 41])"
      ]
     },
     "execution_count": 32,
     "metadata": {},
     "output_type": "execute_result"
    }
   ],
   "source": [
    "logits = h @ W2 + b2\n",
    "logits.shape"
   ]
  },
  {
   "cell_type": "code",
   "execution_count": 33,
   "id": "d63a0d2a-22b7-4136-bdf7-2694d7f8f4db",
   "metadata": {},
   "outputs": [],
   "source": [
    "counts = logits.exp()\n",
    "prob = counts / counts.sum(1, keepdims=True)"
   ]
  },
  {
   "cell_type": "code",
   "execution_count": 34,
   "id": "e4e56746-e4ad-4adb-9587-a93e7680ee8a",
   "metadata": {},
   "outputs": [
    {
     "data": {
      "text/plain": [
       "tensor(1.0000)"
      ]
     },
     "execution_count": 34,
     "metadata": {},
     "output_type": "execute_result"
    }
   ],
   "source": [
    "prob[0].sum()"
   ]
  },
  {
   "cell_type": "code",
   "execution_count": 35,
   "id": "ba48af5e-c095-4b12-adbd-05850cb482eb",
   "metadata": {},
   "outputs": [
    {
     "data": {
      "text/plain": [
       "tensor([6.0919e-11, 7.9578e-03, 6.0919e-11,  ..., 4.7874e-11, 1.9562e-03,\n",
       "        1.8599e-10])"
      ]
     },
     "execution_count": 35,
     "metadata": {},
     "output_type": "execute_result"
    }
   ],
   "source": [
    "prob[torch.arange(Y.size(0)), Y]"
   ]
  },
  {
   "cell_type": "code",
   "execution_count": 36,
   "id": "b8010307-d1d2-45aa-871a-0054c02ced66",
   "metadata": {},
   "outputs": [
    {
     "data": {
      "text/plain": [
       "tensor(17.1219)"
      ]
     },
     "execution_count": 36,
     "metadata": {},
     "output_type": "execute_result"
    }
   ],
   "source": [
    "loss = -prob[torch.arange(Y.size(0)), Y].log().mean()\n",
    "loss"
   ]
  },
  {
   "cell_type": "markdown",
   "id": "af00ff39-85a6-46b8-a5ee-0deb57171c53",
   "metadata": {},
   "source": [
    "La methode [`cross_entropy`](https://pytorch.org/docs/stable/generated/torch.nn.functional.cross_entropy.html) de Pytorch permet de calculer plus efficacement le loss:"
   ]
  },
  {
   "cell_type": "code",
   "execution_count": 37,
   "id": "be1860ba-0fc4-414d-8876-793d7bdea569",
   "metadata": {},
   "outputs": [
    {
     "data": {
      "text/plain": [
       "tensor(17.1219)"
      ]
     },
     "execution_count": 37,
     "metadata": {},
     "output_type": "execute_result"
    }
   ],
   "source": [
    "loss = F.cross_entropy(logits, Y)\n",
    "loss"
   ]
  },
  {
   "cell_type": "markdown",
   "id": "c4cfe8e6-f93b-4f50-b8e0-2a5dbdb67c2b",
   "metadata": {},
   "source": [
    "## Réseau complet et entraînement"
   ]
  },
  {
   "cell_type": "markdown",
   "id": "d30086dc-427e-42d7-a72a-7bb9789f5219",
   "metadata": {},
   "source": [
    "### Architecture"
   ]
  },
  {
   "cell_type": "code",
   "execution_count": 38,
   "id": "13d61b95-9f0d-4a78-b70b-173c13b29a10",
   "metadata": {},
   "outputs": [
    {
     "name": "stdout",
     "output_type": "stream",
     "text": [
      "nb_chars = 41\n",
      "e_dims = 10\n"
     ]
    }
   ],
   "source": [
    "e_dims = 10  # Dimensions des embeddings\n",
    "print(\"nb_chars =\", nb_chars)\n",
    "print(\"e_dims =\", e_dims)\n",
    "g = torch.Generator().manual_seed(2147483647) # for reproducibility\n",
    "C = torch.randn((nb_chars, e_dims), generator=g)\n",
    "W1 = torch.randn((context_size*e_dims, 200), generator=g)\n",
    "b1 = torch.randn(200, generator=g)\n",
    "W2 = torch.randn((200, nb_chars), generator=g)\n",
    "b2 = torch.randn(nb_chars, generator=g)\n",
    "parameters = [C, W1, b1, W2, b2]\n",
    "for p in parameters:\n",
    "    p.requires_grad = True"
   ]
  },
  {
   "cell_type": "code",
   "execution_count": 39,
   "id": "c03a4c5c-7511-4da6-ba08-53d3eea8ee58",
   "metadata": {},
   "outputs": [
    {
     "data": {
      "text/plain": [
       "14851"
      ]
     },
     "execution_count": 39,
     "metadata": {},
     "output_type": "execute_result"
    }
   ],
   "source": [
    "sum(p.nelement() for p in parameters) # number of parameters in total"
   ]
  },
  {
   "cell_type": "markdown",
   "id": "02608f7e-0212-4cbc-a18d-25bad77dcbb5",
   "metadata": {},
   "source": [
    "### Jeux d'entraînement, de développement et de test"
   ]
  },
  {
   "cell_type": "code",
   "execution_count": 40,
   "id": "e8a9af80-c1be-4170-b019-3c259e271349",
   "metadata": {},
   "outputs": [],
   "source": [
    "# 80%, 10%, 10%\n",
    "import random\n",
    "random.seed(42)\n",
    "random.shuffle(words)\n",
    "n1 = int(0.8*len(words))\n",
    "n2 = int(0.9*len(words))\n",
    "\n",
    "context_size = 3\n",
    "Xtr, Ytr = build_dataset(words[:n1], context_size=context_size)\n",
    "Xdev, Ydev = build_dataset(words[n1:n2], context_size=context_size)\n",
    "Xte, Yte = build_dataset(words[n2:], context_size=context_size)"
   ]
  },
  {
   "cell_type": "markdown",
   "id": "946f4cc8-47d0-4670-b131-5798c63cb141",
   "metadata": {},
   "source": [
    "### Entraînement"
   ]
  },
  {
   "cell_type": "code",
   "execution_count": 41,
   "id": "0453e533-94c4-488a-bbdc-19a1aa92a593",
   "metadata": {},
   "outputs": [],
   "source": [
    "lossi = []\n",
    "stepi = []"
   ]
  },
  {
   "cell_type": "code",
   "execution_count": 42,
   "id": "3511e928-3c1a-496a-ad60-ef5b0dd6bcc9",
   "metadata": {},
   "outputs": [],
   "source": [
    "for i in range(200000):\n",
    "  \n",
    "    # minibatch construct\n",
    "    ix = torch.randint(0, Xtr.shape[0], (32,))\n",
    "  \n",
    "    # forward pass\n",
    "    emb = C[Xtr[ix]] # (32, context_size, e_dims)\n",
    "    h = torch.tanh(emb.view(-1, context_size*e_dims) @ W1 + b1) # (32, 200)\n",
    "    logits = h @ W2 + b2 # (32, nb_chars)\n",
    "    loss = F.cross_entropy(logits, Ytr[ix])\n",
    "    #print(loss.item())\n",
    "  \n",
    "    # backward pass\n",
    "    for p in parameters:\n",
    "        p.grad = None\n",
    "    loss.backward()\n",
    "  \n",
    "    # update\n",
    "    lr = 0.1 if i < 100000 else 0.01\n",
    "    for p in parameters:\n",
    "        p.data += -lr * p.grad\n",
    "\n",
    "    # track stats\n",
    "    #lri.append(lre[i])\n",
    "    stepi.append(i)\n",
    "    lossi.append(loss.log10().item())\n",
    "\n",
    "#print(loss.item())"
   ]
  },
  {
   "cell_type": "code",
   "execution_count": 43,
   "id": "c7e56eba-380f-4079-95d2-c457f3a8df77",
   "metadata": {},
   "outputs": [
    {
     "data": {
      "text/plain": [
       "[<matplotlib.lines.Line2D at 0x1232e29c0>]"
      ]
     },
     "execution_count": 43,
     "metadata": {},
     "output_type": "execute_result"
    },
    {
     "data": {
      "image/png": "[encoded data removed]",
      "text/plain": [
       "<Figure size 640x480 with 1 Axes>"
      ]
     },
     "metadata": {},
     "output_type": "display_data"
    }
   ],
   "source": [
    "plt.plot(stepi, lossi)"
   ]
  },
  {
   "cell_type": "code",
   "execution_count": 44,
   "id": "6a918c14-8394-4759-86bc-0014cb6bf4a5",
   "metadata": {},
   "outputs": [
    {
     "data": {
      "text/plain": [
       "tensor(1.5031, grad_fn=<NllLossBackward0>)"
      ]
     },
     "execution_count": 44,
     "metadata": {},
     "output_type": "execute_result"
    }
   ],
   "source": [
    "emb = C[Xtr] # (32, 3, 2)\n",
    "h = torch.tanh(emb.view(-1, context_size*e_dims) @ W1 + b1) # (32, 100)\n",
    "logits = h @ W2 + b2 # (32, nb_chars)\n",
    "loss = F.cross_entropy(logits, Ytr)\n",
    "loss"
   ]
  },
  {
   "cell_type": "code",
   "execution_count": 45,
   "id": "fb5e0fa1-86ef-4d72-926f-a3f6bbbcff8d",
   "metadata": {},
   "outputs": [
    {
     "data": {
      "text/plain": [
       "tensor(1.7257, grad_fn=<NllLossBackward0>)"
      ]
     },
     "execution_count": 45,
     "metadata": {},
     "output_type": "execute_result"
    }
   ],
   "source": [
    "emb = C[Xdev] # (32, 3, 2)\n",
    "h = torch.tanh(emb.view(-1, context_size*e_dims) @ W1 + b1) # (32, 100)\n",
    "logits = h @ W2 + b2 # (32, nb_chars)\n",
    "loss = F.cross_entropy(logits, Ydev)\n",
    "loss"
   ]
  },
  {
   "cell_type": "code",
   "execution_count": 46,
   "id": "0f813077-760c-45b9-82d2-9f42bc391eb9",
   "metadata": {},
   "outputs": [
    {
     "data": {
      "image/png": "[encoded data removed]",
      "text/plain": [
       "<Figure size 800x800 with 1 Axes>"
      ]
     },
     "metadata": {},
     "output_type": "display_data"
    }
   ],
   "source": [
    "# visualize dimensions 0 and 1 of the embedding matrix C for all characters\n",
    "plt.figure(figsize=(8,8))\n",
    "plt.scatter(C[:,0].data, C[:,1].data, s=200)\n",
    "for i in range(C.shape[0]):\n",
    "    plt.text(C[i,0].item(), C[i,1].item(), itoc[i], ha=\"center\", va=\"center\", color='white')\n",
    "plt.grid('minor')"
   ]
  },
  {
   "cell_type": "markdown",
   "id": "2b79491e-9cdf-4993-acb5-c083d0b375dd",
   "metadata": {},
   "source": [
    "## Utilisation du modèle: génération de mots"
   ]
  },
  {
   "cell_type": "code",
   "execution_count": 47,
   "id": "70ccd180-a067-447b-b465-8dfdc6d46d3a",
   "metadata": {},
   "outputs": [
    {
     "data": {
      "text/plain": [
       "torch.Size([1, 3, 10])"
      ]
     },
     "execution_count": 47,
     "metadata": {},
     "output_type": "execute_result"
    }
   ],
   "source": [
    "context = [0] * context_size\n",
    "C[torch.tensor([context])].shape"
   ]
  },
  {
   "cell_type": "code",
   "execution_count": 48,
   "id": "99f39562-e15c-48ca-b5e9-a626538bb16c",
   "metadata": {},
   "outputs": [
    {
     "name": "stdout",
     "output_type": "stream",
     "text": [
      "aves.\n",
      "défester.\n",
      "pièces.\n",
      "sociale.\n",
      "apprétaire.\n",
      "succeplément.\n",
      "mes.\n",
      "trouvoire.\n",
      "assuu.\n",
      "tuteurressorts.\n",
      "momplies.\n",
      "justitualité.\n",
      "exprive.\n",
      "herces.\n",
      "délégales.\n",
      "memblateurt.\n",
      "résent.\n",
      "qu'aucunt.\n",
      "pe.\n",
      "norement.\n"
     ]
    }
   ],
   "source": [
    "# sample from the model\n",
    "g = torch.Generator().manual_seed(2147483647 + 10)\n",
    "\n",
    "for _ in range(20):\n",
    "    out = []\n",
    "    context = [0] * context_size # initialize with all ...\n",
    "    while True:\n",
    "        emb = C[torch.tensor([context])] # (1, context_size, e_dims)\n",
    "        h = torch.tanh(emb.view(1, -1) @ W1 + b1)\n",
    "        logits = h @ W2 + b2\n",
    "        probs = F.softmax(logits, dim=1)\n",
    "        ix = torch.multinomial(probs, num_samples=1, generator=g).item()\n",
    "        context = context[1:] + [ix]\n",
    "        out.append(ix)\n",
    "        if ix == 0:\n",
    "            break\n",
    "    print(''.join(itoc[i] for i in out))"
   ]
  },
  {
   "cell_type": "markdown",
   "id": "0e478bc2-8b82-4090-904f-c3aff8640304",
   "metadata": {},
   "source": [
    "```\n",
    "aves.\n",
    "défester.\n",
    "pièces.\n",
    "sociale.\n",
    "apprétaire.\n",
    "succeplément.\n",
    "mes.\n",
    "trouvoire.\n",
    "assuu.\n",
    "tuteurressorts.\n",
    "momplies.\n",
    "justitualité.\n",
    "exprive.\n",
    "herces.\n",
    "délégales.\n",
    "memblateurt.\n",
    "résent.\n",
    "qu'aucunt.\n",
    "pe.\n",
    "norement.\n",
    "```"
   ]
  },
  {
   "cell_type": "code",
   "execution_count": null,
   "id": "7ded53ff-38bc-4379-a7d8-c29ac7f76396",
   "metadata": {},
   "outputs": [],
   "source": []
  }
 ],
 "metadata": {
  "kernelspec": {
   "display_name": "Python 3 (ipykernel)",
   "language": "python",
   "name": "python3"
  },
  "language_info": {
   "codemirror_mode": {
    "name": "ipython",
    "version": 3
   },
   "file_extension": ".py",
   "mimetype": "text/x-python",
   "name": "python",
   "nbconvert_exporter": "python",
   "pygments_lexer": "ipython3",
   "version": "3.12.8"
  }
 },
 "nbformat": 4,
 "nbformat_minor": 5
}
